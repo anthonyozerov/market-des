{
 "cells": [
  {
   "cell_type": "code",
   "execution_count": 8,
   "id": "bc213f78",
   "metadata": {},
   "outputs": [
    {
     "name": "stdout",
     "output_type": "stream",
     "text": [
      "The autoreload extension is already loaded. To reload it, use:\n",
      "  %reload_ext autoreload\n"
     ]
    }
   ],
   "source": [
    "import subprocess\n",
    "import configparser\n",
    "from tqdm import tqdm\n",
    "import matplotlib.pyplot as plt\n",
    "import numpy as np\n",
    "import os\n",
    "from analysis_utils import *\n",
    "\n",
    "if not os.path.isdir('./graphs'):\n",
    "    os.makedirs('./graphs')\n",
    "\n",
    "import math\n",
    "\n",
    "%load_ext autoreload\n",
    "%autoreload 2"
   ]
  },
  {
   "cell_type": "markdown",
   "id": "ac85cf42",
   "metadata": {},
   "source": [
    "# Bottom Feeders"
   ]
  },
  {
   "cell_type": "code",
   "execution_count": null,
   "id": "ef7fc839",
   "metadata": {},
   "outputs": [],
   "source": [
    "#fun as prey, 2bf\n",
    "iterations=100\n",
    "for i in range(1, 3):\n",
    "    print(i)\n",
    "    config = configparser.ConfigParser()\n",
    "    config['fundamental'] = {'source': 'fundamentalist',\n",
    "                             'n':i,\n",
    "                             'cash': 350,\n",
    "                            'params':{'r':3}}\n",
    "    prey = [j for j in range(0,i)]\n",
    "    config['bottomfeeder'] = {'source': 'bottomfeeder_v2',\n",
    "                              'n':2,\n",
    "                              'cash': 350,\n",
    "                              'params':{'prey': prey, 'ordersno': 4}}\n",
    "    config['noisy'] = {'source': 'noise',\n",
    "                       'n':4-i-2,\n",
    "                       'cash': 350,\n",
    "                       'params': '{\\'var\\': 1, \\'horizon\\': 50}'}\n",
    "    with open('configs/temp_config.ini', 'w') as configfile:  #!!!\n",
    "        config.write(configfile)\n",
    "    for j in range(0, iterations):\n",
    "        subprocess.run(['./market-des', '-r figgie -s 10000', '--index '+str(j),\n",
    "               '--output '+'2bf_fun.'+str(i), '--config '+\"temp_config\"],stdout=subprocess.DEVNULL)"
   ]
  },
  {
   "cell_type": "code",
   "execution_count": null,
   "id": "52ecb28a",
   "metadata": {},
   "outputs": [],
   "source": [
    "num_bfs=[]\n",
    "num_trades=[]\n",
    "for i in range(1,3): \n",
    "    data = CustomUnpickler(open(os.path.join('./output', '2bf_fun.'+str(i)+'.1'),'rb')).load()\n",
    "    num_bf=0\n",
    "    iter=0\n",
    "    for trade in data['assets'][0].trades:\n",
    "        if \"bottomfeeder\" in str(trade):\n",
    "            num_bf+=1\n",
    "        #print(iter,trade)\n",
    "        iter+=1\n",
    "    num_bfs.append(num_bf)\n",
    "    num_trades.append(len(data['assets'][0].trades))\n",
    "\n",
    "percent=np.divide(num_bfs,num_trades)\n",
    "num_bfs,num_trades,percent"
   ]
  },
  {
   "cell_type": "code",
   "execution_count": null,
   "id": "ad01fef1",
   "metadata": {},
   "outputs": [],
   "source": [
    "for i in range(1, 3):\n",
    "    filename = '2bf_fun'+'.'+str(i) \n",
    "    print(i)\n",
    "    plot_rewards(filename, iterations, filename)  "
   ]
  },
  {
   "cell_type": "code",
   "execution_count": null,
   "id": "bde225d6",
   "metadata": {},
   "outputs": [],
   "source": [
    "#fun prey 3bf\n",
    "iterations=100\n",
    "for i in range(1, 2):\n",
    "    print(i)\n",
    "    config = configparser.ConfigParser()\n",
    "    config['fundamental'] = {'source': 'fundamentalist',\n",
    "                             'n':i,\n",
    "                             'cash': 350,\n",
    "                            'params':{'r':3}}\n",
    "    prey = [j for j in range(0,i)]\n",
    "    #prey = 0\n",
    "    config['bottomfeeder'] = {'source': 'bottomfeeder_v2',\n",
    "                              'n':3,\n",
    "                              'cash': 350,\n",
    "                              'params':{'prey': prey, 'ordersno': 4}}\n",
    "    config['noisy'] = {'source': 'noise',\n",
    "                       'n':4-i-3,\n",
    "                       'cash': 350,\n",
    "                       'params': '{\\'var\\': 1, \\'horizon\\': 50}'}\n",
    "    with open('configs/temp_config.ini', 'w') as configfile:  #!!!\n",
    "        config.write(configfile)\n",
    "    for j in range(0, iterations):\n",
    "        subprocess.run(['./market-des', '-r figgie -s 10000', '--index '+str(j),\n",
    "               '--output '+'3bf_fun.'+str(i), '--config '+\"temp_config\"],stdout=subprocess.DEVNULL)"
   ]
  },
  {
   "cell_type": "code",
   "execution_count": null,
   "id": "25a267c6",
   "metadata": {},
   "outputs": [],
   "source": [
    "for i in range(1, 2):\n",
    "    filename = '3bf_fun'+'.'+str(i) \n",
    "    print(i)\n",
    "    plot_rewards(filename, iterations, filename)  "
   ]
  },
  {
   "cell_type": "code",
   "execution_count": null,
   "id": "bfd3148c",
   "metadata": {},
   "outputs": [],
   "source": [
    "#noise prey 1bf\n",
    "iterations=100\n",
    "for i in range(1, 4):\n",
    "    print(i)\n",
    "    config = configparser.ConfigParser()\n",
    "    config['fundamental'] = {'source': 'fundamentalist',\n",
    "                             'n':4-i-1,\n",
    "                             'cash': 350,\n",
    "                            'params':{'r':3}}\n",
    "    prey = [3-j for j in range(0,i)]\n",
    "    #prey = 0\n",
    "    config['bottomfeeder'] = {'source': 'bottomfeeder_v2',\n",
    "                              'n':1,\n",
    "                              'cash': 350,\n",
    "                              'params':{'prey': prey, 'ordersno': 4}}\n",
    "    config['noisy'] = {'source': 'noise',\n",
    "                       'n':i,\n",
    "                       'cash': 350,\n",
    "                       'params': '{\\'var\\': 1, \\'horizon\\': 50}'}\n",
    "    with open('configs/temp_config.ini', 'w') as configfile:  #!!!\n",
    "        config.write(configfile)\n",
    "    for j in range(0, iterations):\n",
    "        subprocess.run(['./market-des', '-r figgie -s 10000', '--index '+str(j),\n",
    "               '--output '+'1bf_n.'+str(i), '--config '+\"temp_config\"],stdout=subprocess.DEVNULL)"
   ]
  },
  {
   "cell_type": "code",
   "execution_count": null,
   "id": "c6eb08f6",
   "metadata": {},
   "outputs": [],
   "source": [
    "for i in range(1, 4):\n",
    "    filename = '1bf_n'+'.'+str(i) \n",
    "    print(i)\n",
    "    plot_rewards(filename, iterations, filename)  "
   ]
  },
  {
   "cell_type": "code",
   "execution_count": null,
   "id": "741d350d",
   "metadata": {},
   "outputs": [],
   "source": [
    "#noise prey 2bf\n",
    "iterations=100\n",
    "for i in range(1, 3):\n",
    "    print(i)\n",
    "    config = configparser.ConfigParser()\n",
    "    config['fundamental'] = {'source': 'fundamentalist',\n",
    "                             'n':4-i-2,\n",
    "                             'cash': 350,\n",
    "                            'params':{'r':3}}\n",
    "    prey = [3-j for j in range(0,i)]\n",
    "    #prey = 0\n",
    "    config['bottomfeeder'] = {'source': 'bottomfeeder_v2',\n",
    "                              'n':2,\n",
    "                              'cash': 350,\n",
    "                              'params':{'prey': prey, 'ordersno': 4}}\n",
    "    config['noisy'] = {'source': 'noise',\n",
    "                       'n':i,\n",
    "                       'cash': 350,\n",
    "                       'params': '{\\'var\\': 1, \\'horizon\\': 50}'}\n",
    "    with open('configs/temp_config.ini', 'w') as configfile:  #!!!\n",
    "        config.write(configfile)\n",
    "    for j in range(0, iterations):\n",
    "        subprocess.run(['./market-des', '-r figgie -s 10000', '--index '+str(j),\n",
    "               '--output '+'2bf_n.'+str(i), '--config '+\"temp_config\"],stdout=subprocess.DEVNULL)"
   ]
  },
  {
   "cell_type": "code",
   "execution_count": null,
   "id": "0625fd0d",
   "metadata": {},
   "outputs": [],
   "source": [
    "for i in range(1, 3):\n",
    "    filename = '2bf_n'+'.'+str(i) \n",
    "    print(i)\n",
    "    plot_rewards(filename, iterations, filename)  "
   ]
  },
  {
   "cell_type": "code",
   "execution_count": null,
   "id": "28abe36f",
   "metadata": {},
   "outputs": [],
   "source": [
    "#noise prey 3bf\n",
    "iterations=100\n",
    "for i in range(1, 2):\n",
    "    print(i)\n",
    "    config = configparser.ConfigParser()\n",
    "    config['fundamental'] = {'source': 'fundamentalist',\n",
    "                             'n':4-i-3,\n",
    "                             'cash': 350,\n",
    "                            'params':{'r':3}}\n",
    "    prey = [3-j for j in range(0,i)]\n",
    "    #prey = 0\n",
    "    config['bottomfeeder'] = {'source': 'bottomfeeder_v2',\n",
    "                              'n':3,\n",
    "                              'cash': 350,\n",
    "                              'params':{'prey': prey, 'ordersno': 4}}\n",
    "    config['noisy'] = {'source': 'noise',\n",
    "                       'n':i,\n",
    "                       'cash': 350,\n",
    "                       'params': '{\\'var\\': 1, \\'horizon\\': 50}'}\n",
    "    with open('configs/temp_config.ini', 'w') as configfile:  #!!!\n",
    "        config.write(configfile)\n",
    "    for j in range(0, iterations):\n",
    "        subprocess.run(['./market-des', '-r figgie -s 10000', '--index '+str(j),\n",
    "               '--output '+'3bf_n.'+str(i), '--config '+\"temp_config\"],stdout=subprocess.DEVNULL)"
   ]
  },
  {
   "cell_type": "code",
   "execution_count": null,
   "id": "2bd2ff06",
   "metadata": {},
   "outputs": [],
   "source": [
    "plot_expectations('3bf_n.1.1')"
   ]
  },
  {
   "cell_type": "code",
   "execution_count": null,
   "id": "b55b2b1a",
   "metadata": {},
   "outputs": [],
   "source": [
    "for i in range(1, 2):\n",
    "    filename = '3bf_n'+'.'+str(i) \n",
    "    print(i)\n",
    "    plot_rewards(filename, iterations, filename)  "
   ]
  },
  {
   "cell_type": "markdown",
   "id": "04b89528",
   "metadata": {},
   "source": [
    "# Below are NOT on paper"
   ]
  },
  {
   "cell_type": "code",
   "execution_count": null,
   "id": "9d39c4fe",
   "metadata": {},
   "outputs": [],
   "source": [
    "#bf prey, fun\n",
    "iterations=100\n",
    "for i in range(1, 5):\n",
    "    print(i)\n",
    "    config = configparser.ConfigParser()\n",
    "    config['fundamental'] = {'source': 'fundamentalist',\n",
    "                             'n':4-i,\n",
    "                             'cash': 350,\n",
    "                            'params':{'r':3}}\n",
    "    prey = [3-j for j in range(0,i)]\n",
    "    #prey = 0\n",
    "    config['bottomfeeder'] = {'source': 'bottomfeeder_v2',\n",
    "                              'n':i,\n",
    "                              'cash': 350,\n",
    "                              'params':{'prey': prey, 'ordersno': 4}}\n",
    "    config['noisy'] = {'source': 'noise',\n",
    "                       'n':0,\n",
    "                       'cash': 350,\n",
    "                       'params': '{\\'var\\': 1, \\'horizon\\': 50}'}\n",
    "    with open('configs/temp_config.ini', 'w') as configfile:  #!!!\n",
    "        config.write(configfile)\n",
    "    for j in range(0, iterations):\n",
    "        subprocess.run(['./market-des', '-r figgie -s 10000', '--index '+str(j),\n",
    "               '--output '+'bf_prey_fun.'+str(i), '--config '+\"temp_config\"],stdout=subprocess.DEVNULL)"
   ]
  },
  {
   "cell_type": "code",
   "execution_count": null,
   "id": "c554a7a2",
   "metadata": {},
   "outputs": [],
   "source": [
    "for i in range(1, 5):\n",
    "    filename = 'bf_prey_fun'+'.'+str(i) \n",
    "    print(i)\n",
    "    plot_rewards(filename, iterations, filename)  "
   ]
  },
  {
   "cell_type": "code",
   "execution_count": null,
   "id": "4e4b8f08",
   "metadata": {},
   "outputs": [],
   "source": [
    "plot_expectations('bf_prey_fun.1.0')"
   ]
  },
  {
   "cell_type": "code",
   "execution_count": null,
   "id": "c9421000",
   "metadata": {},
   "outputs": [],
   "source": [
    "data = CustomUnpickler(open(os.path.join('./output', 'bf_prey_fun.2.1'),'rb')).load()\n",
    "num_bf=0\n",
    "iter=0\n",
    "for trade in data['assets'][0].trades:\n",
    "    if \"bottomfeeder\" in str(trade):\n",
    "        num_bf+=1\n",
    "    print(iter,trade)\n",
    "    iter+=1"
   ]
  },
  {
   "cell_type": "code",
   "execution_count": null,
   "id": "2ce62609",
   "metadata": {},
   "outputs": [],
   "source": [
    "#bf prey, noise\n",
    "iterations=100\n",
    "for i in range(1, 5):\n",
    "    print(i)\n",
    "    config = configparser.ConfigParser()\n",
    "    config['fundamental'] = {'source': 'fundamentalist',\n",
    "                             'n':0,\n",
    "                             'cash': 350,\n",
    "                            'params':{'r':3}}\n",
    "    prey = [j for j in range(0,i)]\n",
    "    #prey = 0\n",
    "    config['bottomfeeder'] = {'source': 'bottomfeeder_v2',\n",
    "                              'n':i,\n",
    "                              'cash': 350,\n",
    "                              'params':{'prey': prey, 'ordersno': 4}}\n",
    "    config['noisy'] = {'source': 'noise',\n",
    "                       'n':4-i,\n",
    "                       'cash': 350,\n",
    "                       'params': '{\\'var\\': 1, \\'horizon\\': 50}'}\n",
    "    with open('configs/temp_config.ini', 'w') as configfile:  #!!!\n",
    "        config.write(configfile)\n",
    "    for j in range(0, iterations):\n",
    "        subprocess.run(['./market-des', '-r figgie -s 10000', '--index '+str(j),\n",
    "               '--output '+'bf_prey_n.'+str(i), '--config '+\"temp_config\"],stdout=subprocess.DEVNULL)"
   ]
  },
  {
   "cell_type": "code",
   "execution_count": null,
   "id": "c829e0b7",
   "metadata": {},
   "outputs": [],
   "source": [
    "for i in range(1, 5):\n",
    "    filename = 'bf_prey_n'+'.'+str(i) \n",
    "    print(i)\n",
    "    plot_rewards(filename, iterations, filename)  "
   ]
  },
  {
   "cell_type": "code",
   "execution_count": null,
   "id": "bfa07368",
   "metadata": {},
   "outputs": [],
   "source": [
    "plot_expectations('bf_prey_n.2.1')"
   ]
  },
  {
   "cell_type": "code",
   "execution_count": null,
   "id": "5ac15fea",
   "metadata": {},
   "outputs": [],
   "source": []
  },
  {
   "cell_type": "code",
   "execution_count": null,
   "id": "3f1ca32d",
   "metadata": {},
   "outputs": [],
   "source": [
    "data = CustomUnpickler(open(os.path.join('./output', 'bf_prey_n.2.1'),'rb')).load()\n",
    "num_bf=0\n",
    "iter=0\n",
    "for trade in data['assets'][0].trades:\n",
    "    if \"bottomfeeder\" in str(trade):\n",
    "        num_bf+=1\n",
    "    print(iter,trade)\n",
    "    iter+=1"
   ]
  },
  {
   "cell_type": "code",
   "execution_count": null,
   "id": "da611898",
   "metadata": {},
   "outputs": [],
   "source": [
    "num_bf"
   ]
  },
  {
   "cell_type": "markdown",
   "id": "903e32cf",
   "metadata": {},
   "source": [
    "Why some approaching exp but some not?"
   ]
  },
  {
   "cell_type": "code",
   "execution_count": null,
   "id": "dc1bd19e",
   "metadata": {},
   "outputs": [],
   "source": [
    "plot_expectations('anna_2bfs.1.1')"
   ]
  },
  {
   "cell_type": "code",
   "execution_count": null,
   "id": "65442303",
   "metadata": {},
   "outputs": [],
   "source": [
    "plot_expectations('anna_2bfs.1.8')"
   ]
  },
  {
   "cell_type": "code",
   "execution_count": null,
   "id": "2bf0909b",
   "metadata": {},
   "outputs": [],
   "source": [
    "plot_expectations('anna_2bfs.1.7')"
   ]
  },
  {
   "cell_type": "markdown",
   "id": "66066fb3",
   "metadata": {},
   "source": [
    "The reason why sometimes bottomfeeders do not approach fundamentalist's 0 expectation eponentially is that the fundamentalist is selling that suit with values higher than 0 in the market because others' are ordering them."
   ]
  },
  {
   "cell_type": "code",
   "execution_count": null,
   "id": "bb1c02cb",
   "metadata": {},
   "outputs": [],
   "source": [
    "data_0 = CustomUnpickler(open(os.path.join('./output', 'anna_2bfs.1.8'),'rb')).load()"
   ]
  },
  {
   "cell_type": "code",
   "execution_count": null,
   "id": "5aab8f53",
   "metadata": {},
   "outputs": [],
   "source": [
    "#analysis\n",
    "i=0\n",
    "for trade in data_0['assets'][1].trades:\n",
    "    print(i, trade)\n",
    "    i+=1\n",
    "    \n",
    "#See trades 132 (at 3.94) ,124 (at 4.39), and 117 (at 6.49), etc. Although the fundamentalist throught the value of suit 1 \n",
    "#is 0 long before that (we need to figure out when), it still sold that suit to another \n",
    "#trader with a relatively high positive value."
   ]
  },
  {
   "cell_type": "code",
   "execution_count": null,
   "id": "710f4b8f",
   "metadata": {},
   "outputs": [],
   "source": []
  },
  {
   "cell_type": "code",
   "execution_count": null,
   "id": "f0ab553c",
   "metadata": {},
   "outputs": [],
   "source": [
    "i=0\n",
    "for trade in data_0['assets'][2].trades:\n",
    "    print(i, trade)\n",
    "    i+=1\n",
    "    \n",
    "#here the price is much lower: trades 128 at 0.61, 119 at 0.66, etc."
   ]
  },
  {
   "cell_type": "code",
   "execution_count": null,
   "id": "3dad068e",
   "metadata": {},
   "outputs": [],
   "source": [
    "num_bf=0\n",
    "for trade in data_0['assets'][2].trades:\n",
    "    if \"bottomfeeder.0\" in str(trade):\n",
    "        num_bf+=1\n",
    "num_bf"
   ]
  },
  {
   "cell_type": "code",
   "execution_count": null,
   "id": "a31d5ddd",
   "metadata": {},
   "outputs": [],
   "source": [
    "data_0['assets'][2].trades[0].time"
   ]
  },
  {
   "cell_type": "markdown",
   "id": "eecd0209",
   "metadata": {},
   "source": [
    "## why the two Fundamentalists' expectations are opposite?"
   ]
  },
  {
   "cell_type": "code",
   "execution_count": null,
   "id": "90fcc0e7",
   "metadata": {},
   "outputs": [],
   "source": [
    "plot_expectations('anna_2bfs.2.1')"
   ]
  },
  {
   "cell_type": "code",
   "execution_count": null,
   "id": "7e991a56",
   "metadata": {},
   "outputs": [],
   "source": [
    "data = CustomUnpickler(open(os.path.join('./output', 'anna_2bfs.2.6'),'rb')).load()"
   ]
  },
  {
   "cell_type": "code",
   "execution_count": null,
   "id": "c18c1ab6",
   "metadata": {
    "scrolled": false
   },
   "outputs": [],
   "source": [
    "for trade in data['assets'][2].trades:\n",
    "    print(trade)"
   ]
  },
  {
   "cell_type": "code",
   "execution_count": null,
   "id": "48759ed9",
   "metadata": {},
   "outputs": [],
   "source": [
    "data = CustomUnpickler(open(os.path.join('./output', 'anna_2bfs.2.3'),'rb')).load()"
   ]
  },
  {
   "cell_type": "code",
   "execution_count": null,
   "id": "2e8a033a",
   "metadata": {},
   "outputs": [],
   "source": [
    "for trade in data['assets'][1].trades:\n",
    "    print(trade)"
   ]
  },
  {
   "cell_type": "code",
   "execution_count": null,
   "id": "5ce9ff2d",
   "metadata": {},
   "outputs": [],
   "source": [
    "for i in range(4):\n",
    "    print(data['agents'][i].name)"
   ]
  },
  {
   "cell_type": "code",
   "execution_count": null,
   "id": "e8c039da",
   "metadata": {},
   "outputs": [],
   "source": [
    "num_buy=0\n",
    "num_sell=0\n",
    "for order in data['agents'][3].orders:\n",
    "    if order.buy:\n",
    "        num_buy+=1 \n",
    "    else:\n",
    "        num_sell+=1\n",
    "    print(order)"
   ]
  },
  {
   "cell_type": "code",
   "execution_count": null,
   "id": "37108ec6",
   "metadata": {},
   "outputs": [],
   "source": [
    "num_buy,num_sell"
   ]
  },
  {
   "cell_type": "code",
   "execution_count": null,
   "id": "976bfd97",
   "metadata": {},
   "outputs": [],
   "source": [
    "data['agents'][0].cash"
   ]
  },
  {
   "cell_type": "code",
   "execution_count": null,
   "id": "b4f56739",
   "metadata": {},
   "outputs": [],
   "source": [
    "orders = data['agents'][0].orders\n",
    "orders = [order for order in orders if order.assetno == 0]\n",
    "order_prices = [order.price for order in orders]\n",
    "colors = [\"red\" if order.buy else \"green\" for order in orders]\n",
    "plt.scatter(range(0,len(orders)),order_prices,color = colors)\n",
    "plt.show()"
   ]
  }
 ],
 "metadata": {
  "kernelspec": {
   "display_name": "Python 3 (ipykernel)",
   "language": "python",
   "name": "python3"
  },
  "language_info": {
   "codemirror_mode": {
    "name": "ipython",
    "version": 3
   },
   "file_extension": ".py",
   "mimetype": "text/x-python",
   "name": "python",
   "nbconvert_exporter": "python",
   "pygments_lexer": "ipython3",
   "version": "3.8.10"
  }
 },
 "nbformat": 4,
 "nbformat_minor": 5
}
