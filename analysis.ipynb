{
 "cells": [
  {
   "cell_type": "code",
   "execution_count": null,
   "id": "bc213f78",
   "metadata": {},
   "outputs": [],
   "source": [
    "import subprocess"
   ]
  },
  {
   "cell_type": "code",
   "execution_count": null,
   "id": "8dffc0ad",
   "metadata": {},
   "outputs": [],
   "source": [
    "configs = ['4n','1f3n','2f2n','3f1n','4f']\n",
    "iterations = 100\n",
    "for config in configs:\n",
    "    print(config)\n",
    "    for i in range(0, iterations):\n",
    "        subprocess.run(['./market-des', '-r figgie -s 10000', '--index '+str(i),\n",
    "                       '--output '+config, '--config '+config],stdout=subprocess.DEVNULL)"
   ]
  },
  {
   "cell_type": "code",
   "execution_count": null,
   "id": "95896379",
   "metadata": {},
   "outputs": [],
   "source": [
    "import pickle\n",
    "import os\n",
    "import numpy as np\n",
    "import matplotlib.pyplot as plt\n",
    "import math"
   ]
  },
  {
   "cell_type": "code",
   "execution_count": null,
   "id": "82e622f8",
   "metadata": {
    "scrolled": false
   },
   "outputs": [],
   "source": [
    "count = 0\n",
    "for config in configs:\n",
    "    print(config)\n",
    "    endcash = np.zeros([iterations,4])\n",
    "    for i in range(0, iterations):\n",
    "        filename = os.path.join('./output',config+'.'+str(i))\n",
    "        data = pickle.load(open(filename,'rb'))\n",
    "        cash = [agent.cash for agent in data['agents']]\n",
    "        names = [agent.name for agent in data['agents']]\n",
    "        endcash[i,:] = cash\n",
    "        #print(len(data['assets'][0].sells))\n",
    "        #print(data['agents'][0].cash)\n",
    "    means = np.mean(endcash,axis=0)\n",
    "    stds  = np.std(endcash,axis=0)\n",
    "    \n",
    "    fig, ax = plt.subplots()\n",
    "    #ax = fig.add_axes([0.1,0.1,0.9,0.9])\n",
    "    color_f = ['skyblue'] * count\n",
    "    color_n = ['palegreen'] * (4-count)\n",
    "    count+=1\n",
    "    color = color_f + color_n\n",
    "    ax.bar(range(0,4),means,color = color)\n",
    "    plt.ylim((0,600))\n",
    "    plt.ylabel(\"Mean cash + payout at end\")\n",
    "    plt.xlabel(\"Player\")\n",
    "    ax.errorbar(range(0,4), means, yerr=stds*2/math.sqrt(iterations), fmt=\"none\", color=\"black\")\n",
    "    ax.set_xticks(range(0,4))\n",
    "    ax.set_xticklabels(names)\n",
    "    \n",
    "    plt.show()\n",
    "    fig.savefig('output/'+config+\".png\", facecolor='white', transparent=False)"
   ]
  },
  {
   "cell_type": "code",
   "execution_count": null,
   "id": "51cf9e6f",
   "metadata": {},
   "outputs": [],
   "source": []
  }
 ],
 "metadata": {
  "kernelspec": {
   "display_name": "Python 3 (ipykernel)",
   "language": "python",
   "name": "python3"
  },
  "language_info": {
   "codemirror_mode": {
    "name": "ipython",
    "version": 3
   },
   "file_extension": ".py",
   "mimetype": "text/x-python",
   "name": "python",
   "nbconvert_exporter": "python",
   "pygments_lexer": "ipython3",
   "version": "3.8.10"
  }
 },
 "nbformat": 4,
 "nbformat_minor": 5
}
