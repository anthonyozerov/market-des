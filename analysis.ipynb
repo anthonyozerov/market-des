{
 "cells": [
  {
   "cell_type": "code",
   "execution_count": null,
   "id": "bc213f78",
   "metadata": {},
   "outputs": [],
   "source": [
    "import subprocess"
   ]
  },
  {
   "cell_type": "code",
   "execution_count": null,
   "id": "877bfdbc",
   "metadata": {},
   "outputs": [],
   "source": [
    "configs = ['4n','1f3n','2f2n','3f1n','4f']\n",
    "iterations = 100"
   ]
  },
  {
   "cell_type": "code",
   "execution_count": null,
   "id": "8dffc0ad",
   "metadata": {},
   "outputs": [],
   "source": [
    "for config in configs:\n",
    "    print(config)\n",
    "    for i in range(0, iterations):\n",
    "        subprocess.run(['./market-des', '-r figgie -s 10000', '--index '+str(i),\n",
    "                       '--output '+config, '--config '+config],stdout=subprocess.DEVNULL)"
   ]
  },
  {
   "cell_type": "code",
   "execution_count": null,
   "id": "fa9b550b",
   "metadata": {},
   "outputs": [],
   "source": [
    "import matplotlib.pyplot as plt\n",
    "import pickle\n",
    "import numpy as np\n",
    "import os\n",
    "import math\n",
    "\n",
    "class Trader:\n",
    "    pass\n",
    "\n",
    "class CustomUnpickler(pickle.Unpickler):\n",
    "    def find_class(self, module, name):\n",
    "        if name == 'Trader':\n",
    "            return Trader\n",
    "        return super().find_class(module, name)"
   ]
  },
  {
   "cell_type": "code",
   "execution_count": null,
   "id": "82e622f8",
   "metadata": {
    "scrolled": false
   },
   "outputs": [],
   "source": [
    "count = 0\n",
    "\n",
    "for config in configs:\n",
    "    print(config)\n",
    "    endcash = np.zeros([iterations,4])\n",
    "    for i in range(0, iterations):\n",
    "        #print(i)\n",
    "        filename = os.path.join('./output',config+'.'+str(i))\n",
    "        data = CustomUnpickler(open(filename, 'rb')).load()\n",
    "        cash = [agent.cash for agent in data['agents']]\n",
    "        names = [agent.name for agent in data['agents']]\n",
    "        endcash[i,:] = cash\n",
    "        #print(len(data['assets'][0].sells))\n",
    "        #print(data['agents'][0].cash)\n",
    "    means = np.mean(endcash,axis=0)\n",
    "    stds  = np.std(endcash,axis=0)\n",
    "    \n",
    "    fig, ax = plt.subplots()\n",
    "    color_f = ['skyblue'] * count\n",
    "    color_n = ['palegreen'] * (4-count)\n",
    "    count+=1\n",
    "    color = color_f + color_n\n",
    "    ax.bar(range(0,4),means,color = color)\n",
    "    ax.set_ylim((0,600))\n",
    "    ax.set_ylabel(\"Mean cash + payout at end\")\n",
    "    ax.set_xlabel(\"Player\")\n",
    "    ax.errorbar(range(0,4), means, yerr=stds*2/math.sqrt(iterations), fmt=\"none\", color=\"black\")\n",
    "    ax.set_xticks(range(0,4))\n",
    "    ax.set_xticklabels(names)\n",
    "    \n",
    "    plt.show()\n",
    "    fig.savefig('output/'+config+\".png\", facecolor='white', transparent=False)"
   ]
  }
 ],
 "metadata": {
  "kernelspec": {
   "display_name": "Python 3 (ipykernel)",
   "language": "python",
   "name": "python3"
  },
  "language_info": {
   "codemirror_mode": {
    "name": "ipython",
    "version": 3
   },
   "file_extension": ".py",
   "mimetype": "text/x-python",
   "name": "python",
   "nbconvert_exporter": "python",
   "pygments_lexer": "ipython3",
   "version": "3.8.10"
  }
 },
 "nbformat": 4,
 "nbformat_minor": 5
}
