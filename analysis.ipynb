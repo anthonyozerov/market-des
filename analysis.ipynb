{
 "cells": [
  {
   "cell_type": "code",
   "execution_count": null,
   "id": "bc213f78",
   "metadata": {},
   "outputs": [],
   "source": [
    "import subprocess\n",
    "import configparser\n",
    "\n",
    "import matplotlib.pyplot as plt\n",
    "import pickle\n",
    "import numpy as np\n",
    "import os\n",
    "\n",
    "if not os.path.isdir('./graphs'):\n",
    "    os.makedirs('./graphs')\n",
    "\n",
    "import math\n",
    "\n",
    "#plt.style.use(\"ggplot\")\n",
    "\n",
    "class Trader:\n",
    "    pass\n",
    "\n",
    "class CustomUnpickler(pickle.Unpickler):\n",
    "    def find_class(self, module, name):\n",
    "        if name == 'Trader':\n",
    "            return Trader\n",
    "        return super().find_class(module, name)"
   ]
  },
  {
   "cell_type": "code",
   "execution_count": null,
   "id": "39af7092",
   "metadata": {},
   "outputs": [],
   "source": [
    "def plot_expectations(filename):\n",
    "    data = CustomUnpickler(open(os.path.join('./output', filename),'rb')).load()\n",
    "    #trades = data['assets'][0].trades\n",
    "    #print(len(trades))\n",
    "    #print(sum([trade.buyer == trade.seller for trade in trades]))\n",
    "    #fig, axs = plt.subplots(4, sharex=True, sharey=True)\n",
    "    for i in range(0,4):\n",
    "        names = []\n",
    "        for j in range(0,4):\n",
    "            agent = data['agents'][j]\n",
    "            if(hasattr(agent, 'expectations')):\n",
    "                expectations = agent.expectations\n",
    "                plt.plot(expectations[:,0],expectations[:,i+1])\n",
    "                names.append(agent.name)\n",
    "        plt.ylabel('value')\n",
    "        plt.xlabel('time')\n",
    "        plt.legend(labels = names)\n",
    "        titlestring = 'Agents\\' view of suit '+str(i)+'\\'s value over time'\n",
    "        if i == data['goalsuit']:\n",
    "            titlestring += \" (GOAL SUIT)\"\n",
    "        plt.title(titlestring)\n",
    "        plt.show()"
   ]
  },
  {
   "cell_type": "code",
   "execution_count": null,
   "id": "049200ca",
   "metadata": {},
   "outputs": [],
   "source": [
    "def plot_rewards(input_base, iterations, output):\n",
    "    endcash = np.zeros([iterations,4])\n",
    "    endpayout = np.zeros([iterations,4])\n",
    "    avg_trades = 0\n",
    "    for i in range(0, iterations):\n",
    "        filename = os.path.join('./output',input_base+'.'+str(i))\n",
    "        data = CustomUnpickler(open(filename, 'rb')).load()\n",
    "        cash = [agent.cash for agent in data['agents']]\n",
    "        payout = [agent.payout for agent in data['agents']]\n",
    "        names = [agent.name for agent in data['agents']]\n",
    "        endcash[i,:] = cash\n",
    "        endpayout[i,:] = payout\n",
    "        avg_trades += sum([len(asset.trades) for asset in data[\"assets\"]])/iterations\n",
    "    cashmeans = np.mean(endcash,axis=0)\n",
    "    payoutmeans = np.mean(endpayout,axis=0)\n",
    "    print(cashmeans)\n",
    "    cashstds  = np.std(endcash,axis=0)\n",
    "    payoutstds  = np.std(endpayout,axis=0)\n",
    "    print(payoutmeans)\n",
    "    #print(endpayout)\n",
    "    #print(payoutstds)\n",
    "\n",
    "    fig, ax = plt.subplots()\n",
    "    color = [agent.color for agent in data['agents']]\n",
    "    ax.bar(range(0,4),cashmeans,color = color, edgecolor = \"black\")\n",
    "    ax.errorbar(range(0,4), cashmeans, yerr = cashstds*2/math.sqrt(iterations),fmt=\"none\", color=\"grey\",capsize=5)\n",
    "    ax.bar(range(0,4),payoutmeans,color = color,bottom=cashmeans, edgecolor = \"black\")\n",
    "    ax.errorbar(range(0,4), payoutmeans+cashmeans, yerr=payoutstds*2/math.sqrt(iterations), fmt=\"none\", color=\"black\",capsize=5)\n",
    "    ax.set_ylim((0,600))\n",
    "    ax.set_ylabel(\"Mean cash + payout at end\")\n",
    "    ax.set_xlabel(\"Player\")\n",
    "    ax.set_xticks(range(0,4))\n",
    "    ax.set_xticklabels(names)\n",
    "\n",
    "    plt.show()\n",
    "    fig.savefig('graphs/'+output+\".png\", facecolor='white', transparent=False)"
   ]
  },
  {
   "cell_type": "code",
   "execution_count": null,
   "id": "5cbf681b",
   "metadata": {},
   "outputs": [],
   "source": [
    "iterations = 100"
   ]
  },
  {
   "cell_type": "code",
   "execution_count": null,
   "id": "3e3dc3e4",
   "metadata": {},
   "outputs": [],
   "source": [
    "for i in range(1, 4):\n",
    "    print(i)\n",
    "    config = configparser.ConfigParser()\n",
    "    config['fundamental'] = {'source': 'fundamentalist',\n",
    "                             'n':i,\n",
    "                             'cash': 350}\n",
    "    prey = [k for k in range(0,i)]\n",
    "    config['bottomfeeder'] = {'source': 'bottomfeeder_v2',\n",
    "                              'n':1,\n",
    "                              'cash': 350,\n",
    "                              'params':{'prey': prey, 'ordersno': 4}}\n",
    "    config['noisy'] = {'source': 'noise',\n",
    "                       'n':4-i-1,\n",
    "                       'cash': 350,\n",
    "                       'params': '{\\'var\\': 1, \\'horizon\\': 50}'}\n",
    "    with open('configs/temp_config.ini', 'w') as configfile:\n",
    "        config.write(configfile)\n",
    "    for j in range(0, iterations):\n",
    "        subprocess.run(['./market-des', '-r figgie -s 10000', '--index '+str(j),\n",
    "               '--output '+'bvsf.'+str(i), '--config '+\"temp_config\"],stdout=subprocess.DEVNULL)\n"
   ]
  },
  {
   "cell_type": "code",
   "execution_count": null,
   "id": "8c4db03d",
   "metadata": {},
   "outputs": [],
   "source": [
    "for i in range(1, 4):\n",
    "    filename = 'bvsf'+'.'+str(i)\n",
    "    print(i)\n",
    "    plot_rewards(filename, iterations, filename)"
   ]
  },
  {
   "cell_type": "code",
   "execution_count": null,
   "id": "c1567983",
   "metadata": {},
   "outputs": [],
   "source": [
    "configs = ['4n','1f3n','2f2n','3f1n','4f']\n",
    "iterations = 100"
   ]
  },
  {
   "cell_type": "code",
   "execution_count": null,
   "id": "8dffc0ad",
   "metadata": {},
   "outputs": [],
   "source": [
    "for config in configs:\n",
    "    print(config)\n",
    "    for i in range(0, iterations):\n",
    "        subprocess.run(['./market-des', '-r figgie -s 10000', '--index '+str(i),\n",
    "                       '--output '+config, '--config '+config],stdout=subprocess.DEVNULL)"
   ]
  },
  {
   "cell_type": "code",
   "execution_count": null,
   "id": "82e622f8",
   "metadata": {
    "scrolled": false
   },
   "outputs": [],
   "source": [
    "for config in configs:\n",
    "    print(config)\n",
    "    plot_rewards(config, iterations, config)"
   ]
  },
  {
   "cell_type": "code",
   "execution_count": null,
   "id": "d3579780",
   "metadata": {},
   "outputs": [],
   "source": [
    "data = CustomUnpickler(open(os.path.join('./output', '1f3n.4'),'rb')).load()\n",
    "data = data['agents'][0].expectations\n",
    "data = data[1:100,:]\n",
    "for i in range(1,5):\n",
    "    plt.plot(data[:,0],data[:,i])\n",
    "plt.ylabel('value')\n",
    "plt.xlabel('time')\n",
    "plt.legend(labels = range(0,4))\n",
    "plt.title('Fundamentalist\\' view of suit\\'s value over time')\n",
    "plt.show()"
   ]
  },
  {
   "cell_type": "code",
   "execution_count": null,
   "id": "358a1704",
   "metadata": {},
   "outputs": [],
   "source": [
    "data = CustomUnpickler(open(os.path.join('./output', '1f3n.4'),'rb')).load()\n",
    "for i in range(0,4):\n",
    "    asset = data['assets'][i]\n",
    "    price_series = asset.price_series\n",
    "    times = price_series[:,0]\n",
    "    prices = price_series[:,1]\n",
    "    plt.plot(times,prices)\n",
    "plt.ylabel('price')\n",
    "plt.xlabel('time')\n",
    "plt.title('Asset prices over time')\n",
    "plt.legend(labels = range(0,4))\n",
    "plt.show()"
   ]
  },
  {
   "cell_type": "code",
   "execution_count": null,
   "id": "c3cafd35",
   "metadata": {},
   "outputs": [],
   "source": [
    "iterations=100\n",
    "config = 'bottomfeeders'\n",
    "for i in range(0, iterations):\n",
    "    subprocess.run(['./market-des', '-r figgie -s 10000', '--index '+str(i),\n",
    "                   '--output '+config, '--config '+config],stdout=subprocess.DEVNULL)"
   ]
  },
  {
   "cell_type": "code",
   "execution_count": null,
   "id": "eb611b45",
   "metadata": {},
   "outputs": [],
   "source": [
    "plot_rewards('bottomfeeders',iterations,\"bottomfeeders\")"
   ]
  },
  {
   "cell_type": "code",
   "execution_count": null,
   "id": "7e8427d3",
   "metadata": {},
   "outputs": [],
   "source": [
    "iterations=100\n",
    "config = 'bottomfeeders_v2'\n",
    "for i in range(0, iterations):\n",
    "    subprocess.run(['./market-des', '-r figgie -s 10000', '--index '+str(i),\n",
    "                   '--output '+config, '--config '+config],stdout=subprocess.DEVNULL)"
   ]
  },
  {
   "cell_type": "code",
   "execution_count": null,
   "id": "1bf77dec",
   "metadata": {},
   "outputs": [],
   "source": [
    "plot_rewards('bottomfeeders_v2',iterations,\"bottomfeeders_v2\")"
   ]
  },
  {
   "cell_type": "code",
   "execution_count": null,
   "id": "b723f2ab",
   "metadata": {},
   "outputs": [],
   "source": [
    "#     orders = data['agents'][0].orders\n",
    "#     orders = [order for order in orders if order.assetno == 0]\n",
    "#     order_prices = [order.price for order in orders]\n",
    "#     colors = [\"red\" if order.buy else \"green\" for order in orders]\n",
    "#     plt.scatter(range(0,len(orders)),order_prices,color = colors)\n",
    "#     plt.show()\n",
    "plot_expectations('bottomfeeders_v2.2')"
   ]
  },
  {
   "cell_type": "code",
   "execution_count": null,
   "id": "309f4917",
   "metadata": {},
   "outputs": [],
   "source": [
    "plot_expectations('3f1n.0')"
   ]
  },
  {
   "cell_type": "code",
   "execution_count": null,
   "id": "3f5eca04",
   "metadata": {},
   "outputs": [],
   "source": [
    "# multiple first-degrees looking at fundamentalist"
   ]
  }
 ],
 "metadata": {
  "kernelspec": {
   "display_name": "Python 3 (ipykernel)",
   "language": "python",
   "name": "python3"
  },
  "language_info": {
   "codemirror_mode": {
    "name": "ipython",
    "version": 3
   },
   "file_extension": ".py",
   "mimetype": "text/x-python",
   "name": "python",
   "nbconvert_exporter": "python",
   "pygments_lexer": "ipython3",
   "version": "3.8.10"
  }
 },
 "nbformat": 4,
 "nbformat_minor": 5
}
