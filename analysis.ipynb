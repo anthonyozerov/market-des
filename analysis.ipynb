{
 "cells": [
  {
   "cell_type": "code",
   "execution_count": 16,
   "id": "1d0ecb16",
   "metadata": {},
   "outputs": [],
   "source": [
    "import subprocess\n",
    "iterations = 100\n",
    "for i in range(0, iterations):\n",
    "    subprocess.run(['./market-des', '-r figgie -s 10000', '--index '+str(i)],stdout=subprocess.DEVNULL)"
   ]
  },
  {
   "cell_type": "code",
   "execution_count": 35,
   "id": "cc929e38",
   "metadata": {},
   "outputs": [],
   "source": [
    "import pickle\n",
    "import os\n",
    "import numpy as np\n",
    "endcash = np.zeros([iterations,4])\n",
    "for i in range(0, iterations):\n",
    "    filename = os.path.join('./output','datadump.'+str(i))\n",
    "    data = pickle.load(open(filename,'rb'))\n",
    "    cash = [agent.cash for agent in data['agents']]\n",
    "    endcash[i,:] = cash\n",
    "    #print(len(data['assets'][0].sells))\n",
    "    #print(data['agents'][0].cash)"
   ]
  },
  {
   "cell_type": "code",
   "execution_count": 53,
   "id": "a43bd457",
   "metadata": {},
   "outputs": [],
   "source": [
    "means=np.mean(endcash,axis=0)"
   ]
  },
  {
   "cell_type": "code",
   "execution_count": 55,
   "id": "6b2feb69",
   "metadata": {},
   "outputs": [
    {
     "data": {
      "image/png": "[encoded data removed]",
      "text/plain": [
       "<Figure size 432x288 with 1 Axes>"
      ]
     },
     "metadata": {
      "needs_background": "light"
     },
     "output_type": "display_data"
    }
   ],
   "source": [
    "import matplotlib.pyplot as plt\n",
    "fig = plt.figure()\n",
    "ax = fig.add_axes([0,0,1,1])\n",
    "ax.bar(range(0,4),means)\n",
    "plt.show()"
   ]
  },
  {
   "cell_type": "code",
   "execution_count": null,
   "id": "fa948e2f",
   "metadata": {},
   "outputs": [],
   "source": []
  }
 ],
 "metadata": {
  "kernelspec": {
   "display_name": "Python 3 (ipykernel)",
   "language": "python",
   "name": "python3"
  },
  "language_info": {
   "codemirror_mode": {
    "name": "ipython",
    "version": 3
   },
   "file_extension": ".py",
   "mimetype": "text/x-python",
   "name": "python",
   "nbconvert_exporter": "python",
   "pygments_lexer": "ipython3",
   "version": "3.8.10"
  }
 },
 "nbformat": 4,
 "nbformat_minor": 5
}
